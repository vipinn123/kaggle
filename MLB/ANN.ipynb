{
 "cells": [
  {
   "cell_type": "code",
   "execution_count": 6,
   "id": "851582d8-ddca-45fb-997f-8448b9e7abe3",
   "metadata": {},
   "outputs": [],
   "source": [
    "import pandas as pd\n",
    "import numpy as np\n",
    "from datetime import timedelta\n",
    "from tqdm import tqdm\n",
    "import gc\n",
    "from functools import reduce\n",
    "from sklearn.model_selection import StratifiedKFold"
   ]
  },
  {
   "cell_type": "code",
   "execution_count": 7,
   "id": "3e473a1a-680f-4af2-913f-29ed2ed39686",
   "metadata": {},
   "outputs": [],
   "source": [
    "def make_df(df, col, bool_in=False):\n",
    "    tp = df.loc[ ~df[col].isnull() ,[col]].copy()\n",
    "    df.drop(col, axis=1, inplace=True)\n",
    "    \n",
    "    tp[col] = tp[col].str.replace(\"null\",'\"\"')\n",
    "    if bool_in:\n",
    "        tp[col] = tp[col].str.replace(\"false\",'\"False\"')\n",
    "        tp[col] = tp[col].str.replace(\"true\",'\"True\"')\n",
    "    tp[col] = tp[col].apply(lambda x: eval(x) )\n",
    "    a = tp[col].sum()\n",
    "    gc.collect()\n",
    "    return pd.DataFrame(a)\n",
    "#==============="
   ]
  },
  {
   "cell_type": "code",
   "execution_count": 13,
   "id": "46b3a784-cd70-41ff-b01b-25296a1afe4c",
   "metadata": {},
   "outputs": [],
   "source": [
    "ROOT_DIR = \"./input/mlb-player-digital-engagement-forecasting\""
   ]
  },
  {
   "cell_type": "code",
   "execution_count": 14,
   "id": "c490f4c2-0f3a-4baa-98bf-c441cadd3583",
   "metadata": {},
   "outputs": [],
   "source": [
    "#=======================#\n",
    "def flatten(df, col):\n",
    "    du = (df.pivot(index=\"playerId\", columns=\"EvalDate\", \n",
    "               values=col).add_prefix(f\"{col}_\").\n",
    "      rename_axis(None, axis=1).reset_index())\n",
    "    return du\n",
    "#============================#\n",
    "def reducer(left, right):\n",
    "    return left.merge(right, on=\"playerId\")\n",
    "#========================"
   ]
  },
  {
   "cell_type": "code",
   "execution_count": 15,
   "id": "df37b94e-141a-4adb-b1c1-eb79a2dde733",
   "metadata": {},
   "outputs": [],
   "source": [
    "TGTCOLS = [\"target1\",\"target2\",\"target3\",\"target4\"]\n",
    "def train_lag(df, lag=1):\n",
    "    dp = df[[\"playerId\",\"EvalDate\"]+TGTCOLS].copy()\n",
    "    dp[\"EvalDate\"]  =dp[\"EvalDate\"] + timedelta(days=lag) \n",
    "    df = df.merge(dp, on=[\"playerId\", \"EvalDate\"], suffixes=[\"\",f\"_{lag}\"], how=\"left\")\n",
    "    return df\n",
    "#=================================\n",
    "def test_lag(sub):\n",
    "    sub[\"playerId\"] = sub[\"date_playerId\"].apply(lambda s: int(  s.split(\"_\")[1]  ) )\n",
    "    assert sub.date.nunique() == 1\n",
    "    dte = sub[\"date\"].unique()[0]\n",
    "    \n",
    "    eval_dt = pd.to_datetime(dte, format=\"%Y%m%d\")\n",
    "    dtes = [eval_dt + timedelta(days=-k) for k in LAGS]\n",
    "    mp_dtes = {eval_dt + timedelta(days=-k):k for k in LAGS}\n",
    "    \n",
    "    sl = LAST.loc[LAST.EvalDate.between(dtes[-1], dtes[0]), [\"EvalDate\",\"playerId\"]+TGTCOLS].copy()\n",
    "    sl[\"EvalDate\"] = sl[\"EvalDate\"].map(mp_dtes)\n",
    "    du = [flatten(sl, col) for col in TGTCOLS]\n",
    "    du = reduce(reducer, du)\n",
    "    return du, eval_dt\n",
    "    #\n",
    "#==============="
   ]
  },
  {
   "cell_type": "code",
   "execution_count": 16,
   "id": "3f63df93-1026-4110-89c0-1f5d0beb22ca",
   "metadata": {},
   "outputs": [
    {
     "name": "stdout",
     "output_type": "stream",
     "text": [
      "(1216, 12)\n",
      "Wall time: 1min 5s\n"
     ]
    },
    {
     "data": {
      "text/plain": [
       "108"
      ]
     },
     "execution_count": 16,
     "metadata": {},
     "output_type": "execute_result"
    }
   ],
   "source": [
    "%%time\n",
    "tr = pd.read_csv(f\"{ROOT_DIR}/train.csv\")\n",
    "#tr = pd.read_csv(\"../input/mlb-data/target.csv\")\n",
    "print(tr.shape)\n",
    "gc.collect()"
   ]
  },
  {
   "cell_type": "code",
   "execution_count": 17,
   "id": "ce51444c-415f-4d26-a296-708d3c8c2139",
   "metadata": {},
   "outputs": [
    {
     "ename": "KeyError",
     "evalue": "'EvalDate'",
     "output_type": "error",
     "traceback": [
      "\u001b[1;31m---------------------------------------------------------------------------\u001b[0m",
      "\u001b[1;31mKeyError\u001b[0m                                  Traceback (most recent call last)",
      "\u001b[1;32mc:\\users\\vipin\\appdata\\local\\programs\\python\\python38\\lib\\site-packages\\pandas\\core\\indexes\\base.py\u001b[0m in \u001b[0;36mget_loc\u001b[1;34m(self, key, method, tolerance)\u001b[0m\n\u001b[0;32m   3079\u001b[0m             \u001b[1;32mtry\u001b[0m\u001b[1;33m:\u001b[0m\u001b[1;33m\u001b[0m\u001b[1;33m\u001b[0m\u001b[0m\n\u001b[1;32m-> 3080\u001b[1;33m                 \u001b[1;32mreturn\u001b[0m \u001b[0mself\u001b[0m\u001b[1;33m.\u001b[0m\u001b[0m_engine\u001b[0m\u001b[1;33m.\u001b[0m\u001b[0mget_loc\u001b[0m\u001b[1;33m(\u001b[0m\u001b[0mcasted_key\u001b[0m\u001b[1;33m)\u001b[0m\u001b[1;33m\u001b[0m\u001b[1;33m\u001b[0m\u001b[0m\n\u001b[0m\u001b[0;32m   3081\u001b[0m             \u001b[1;32mexcept\u001b[0m \u001b[0mKeyError\u001b[0m \u001b[1;32mas\u001b[0m \u001b[0merr\u001b[0m\u001b[1;33m:\u001b[0m\u001b[1;33m\u001b[0m\u001b[1;33m\u001b[0m\u001b[0m\n",
      "\u001b[1;32mpandas\\_libs\\index.pyx\u001b[0m in \u001b[0;36mpandas._libs.index.IndexEngine.get_loc\u001b[1;34m()\u001b[0m\n",
      "\u001b[1;32mpandas\\_libs\\index.pyx\u001b[0m in \u001b[0;36mpandas._libs.index.IndexEngine.get_loc\u001b[1;34m()\u001b[0m\n",
      "\u001b[1;32mpandas\\_libs\\hashtable_class_helper.pxi\u001b[0m in \u001b[0;36mpandas._libs.hashtable.PyObjectHashTable.get_item\u001b[1;34m()\u001b[0m\n",
      "\u001b[1;32mpandas\\_libs\\hashtable_class_helper.pxi\u001b[0m in \u001b[0;36mpandas._libs.hashtable.PyObjectHashTable.get_item\u001b[1;34m()\u001b[0m\n",
      "\u001b[1;31mKeyError\u001b[0m: 'EvalDate'",
      "\nThe above exception was the direct cause of the following exception:\n",
      "\u001b[1;31mKeyError\u001b[0m                                  Traceback (most recent call last)",
      "\u001b[1;32m<ipython-input-17-de490262fb31>\u001b[0m in \u001b[0;36m<module>\u001b[1;34m\u001b[0m\n\u001b[1;32m----> 1\u001b[1;33m \u001b[0mtr\u001b[0m\u001b[1;33m[\u001b[0m\u001b[1;34m\"EvalDate\"\u001b[0m\u001b[1;33m]\u001b[0m \u001b[1;33m=\u001b[0m \u001b[0mpd\u001b[0m\u001b[1;33m.\u001b[0m\u001b[0mto_datetime\u001b[0m\u001b[1;33m(\u001b[0m\u001b[0mtr\u001b[0m\u001b[1;33m[\u001b[0m\u001b[1;34m\"EvalDate\"\u001b[0m\u001b[1;33m]\u001b[0m\u001b[1;33m)\u001b[0m\u001b[1;33m\u001b[0m\u001b[1;33m\u001b[0m\u001b[0m\n\u001b[0m\u001b[0;32m      2\u001b[0m \u001b[0mtr\u001b[0m\u001b[1;33m[\u001b[0m\u001b[1;34m\"EvalDate\"\u001b[0m\u001b[1;33m]\u001b[0m \u001b[1;33m=\u001b[0m \u001b[0mtr\u001b[0m\u001b[1;33m[\u001b[0m\u001b[1;34m\"EvalDate\"\u001b[0m\u001b[1;33m]\u001b[0m \u001b[1;33m+\u001b[0m \u001b[0mtimedelta\u001b[0m\u001b[1;33m(\u001b[0m\u001b[0mdays\u001b[0m\u001b[1;33m=\u001b[0m\u001b[1;33m-\u001b[0m\u001b[1;36m1\u001b[0m\u001b[1;33m)\u001b[0m\u001b[1;33m\u001b[0m\u001b[1;33m\u001b[0m\u001b[0m\n\u001b[0;32m      3\u001b[0m \u001b[0mtr\u001b[0m\u001b[1;33m[\u001b[0m\u001b[1;34m\"EvalYear\"\u001b[0m\u001b[1;33m]\u001b[0m \u001b[1;33m=\u001b[0m \u001b[0mtr\u001b[0m\u001b[1;33m[\u001b[0m\u001b[1;34m\"EvalDate\"\u001b[0m\u001b[1;33m]\u001b[0m\u001b[1;33m.\u001b[0m\u001b[0mdt\u001b[0m\u001b[1;33m.\u001b[0m\u001b[0myear\u001b[0m\u001b[1;33m\u001b[0m\u001b[1;33m\u001b[0m\u001b[0m\n",
      "\u001b[1;32mc:\\users\\vipin\\appdata\\local\\programs\\python\\python38\\lib\\site-packages\\pandas\\core\\frame.py\u001b[0m in \u001b[0;36m__getitem__\u001b[1;34m(self, key)\u001b[0m\n\u001b[0;32m   3022\u001b[0m             \u001b[1;32mif\u001b[0m \u001b[0mself\u001b[0m\u001b[1;33m.\u001b[0m\u001b[0mcolumns\u001b[0m\u001b[1;33m.\u001b[0m\u001b[0mnlevels\u001b[0m \u001b[1;33m>\u001b[0m \u001b[1;36m1\u001b[0m\u001b[1;33m:\u001b[0m\u001b[1;33m\u001b[0m\u001b[1;33m\u001b[0m\u001b[0m\n\u001b[0;32m   3023\u001b[0m                 \u001b[1;32mreturn\u001b[0m \u001b[0mself\u001b[0m\u001b[1;33m.\u001b[0m\u001b[0m_getitem_multilevel\u001b[0m\u001b[1;33m(\u001b[0m\u001b[0mkey\u001b[0m\u001b[1;33m)\u001b[0m\u001b[1;33m\u001b[0m\u001b[1;33m\u001b[0m\u001b[0m\n\u001b[1;32m-> 3024\u001b[1;33m             \u001b[0mindexer\u001b[0m \u001b[1;33m=\u001b[0m \u001b[0mself\u001b[0m\u001b[1;33m.\u001b[0m\u001b[0mcolumns\u001b[0m\u001b[1;33m.\u001b[0m\u001b[0mget_loc\u001b[0m\u001b[1;33m(\u001b[0m\u001b[0mkey\u001b[0m\u001b[1;33m)\u001b[0m\u001b[1;33m\u001b[0m\u001b[1;33m\u001b[0m\u001b[0m\n\u001b[0m\u001b[0;32m   3025\u001b[0m             \u001b[1;32mif\u001b[0m \u001b[0mis_integer\u001b[0m\u001b[1;33m(\u001b[0m\u001b[0mindexer\u001b[0m\u001b[1;33m)\u001b[0m\u001b[1;33m:\u001b[0m\u001b[1;33m\u001b[0m\u001b[1;33m\u001b[0m\u001b[0m\n\u001b[0;32m   3026\u001b[0m                 \u001b[0mindexer\u001b[0m \u001b[1;33m=\u001b[0m \u001b[1;33m[\u001b[0m\u001b[0mindexer\u001b[0m\u001b[1;33m]\u001b[0m\u001b[1;33m\u001b[0m\u001b[1;33m\u001b[0m\u001b[0m\n",
      "\u001b[1;32mc:\\users\\vipin\\appdata\\local\\programs\\python\\python38\\lib\\site-packages\\pandas\\core\\indexes\\base.py\u001b[0m in \u001b[0;36mget_loc\u001b[1;34m(self, key, method, tolerance)\u001b[0m\n\u001b[0;32m   3080\u001b[0m                 \u001b[1;32mreturn\u001b[0m \u001b[0mself\u001b[0m\u001b[1;33m.\u001b[0m\u001b[0m_engine\u001b[0m\u001b[1;33m.\u001b[0m\u001b[0mget_loc\u001b[0m\u001b[1;33m(\u001b[0m\u001b[0mcasted_key\u001b[0m\u001b[1;33m)\u001b[0m\u001b[1;33m\u001b[0m\u001b[1;33m\u001b[0m\u001b[0m\n\u001b[0;32m   3081\u001b[0m             \u001b[1;32mexcept\u001b[0m \u001b[0mKeyError\u001b[0m \u001b[1;32mas\u001b[0m \u001b[0merr\u001b[0m\u001b[1;33m:\u001b[0m\u001b[1;33m\u001b[0m\u001b[1;33m\u001b[0m\u001b[0m\n\u001b[1;32m-> 3082\u001b[1;33m                 \u001b[1;32mraise\u001b[0m \u001b[0mKeyError\u001b[0m\u001b[1;33m(\u001b[0m\u001b[0mkey\u001b[0m\u001b[1;33m)\u001b[0m \u001b[1;32mfrom\u001b[0m \u001b[0merr\u001b[0m\u001b[1;33m\u001b[0m\u001b[1;33m\u001b[0m\u001b[0m\n\u001b[0m\u001b[0;32m   3083\u001b[0m \u001b[1;33m\u001b[0m\u001b[0m\n\u001b[0;32m   3084\u001b[0m         \u001b[1;32mif\u001b[0m \u001b[0mtolerance\u001b[0m \u001b[1;32mis\u001b[0m \u001b[1;32mnot\u001b[0m \u001b[1;32mNone\u001b[0m\u001b[1;33m:\u001b[0m\u001b[1;33m\u001b[0m\u001b[1;33m\u001b[0m\u001b[0m\n",
      "\u001b[1;31mKeyError\u001b[0m: 'EvalDate'"
     ]
    }
   ],
   "source": [
    "tr[\"EvalDate\"] = pd.to_datetime(tr[\"EvalDate\"])\n",
    "tr[\"EvalDate\"] = tr[\"EvalDate\"] + timedelta(days=-1)\n",
    "tr[\"EvalYear\"] = tr[\"EvalDate\"].dt.year"
   ]
  },
  {
   "cell_type": "code",
   "execution_count": null,
   "id": "81d37b28-eaa7-49b0-88d4-d1fc6df65ff2",
   "metadata": {},
   "outputs": [],
   "source": [
    "MED_DF = tr.groupby([\"playerId\",\"EvalYear\"])[TGTCOLS].median().reset_index()\n",
    "MEDCOLS = [\"tgt1_med\",\"tgt2_med\", \"tgt3_med\", \"tgt4_med\"]\n",
    "MED_DF.columns = [\"playerId\",\"EvalYear\"] + MEDCOLS"
   ]
  },
  {
   "cell_type": "code",
   "execution_count": null,
   "id": "079ca7a3-0d54-4699-bbde-8d4f27a40c11",
   "metadata": {},
   "outputs": [],
   "source": [
    "LAGS = list(range(1,31))\n",
    "FECOLS = [f\"{col}_{lag}\" for lag in reversed(LAGS) for col in TGTCOLS]"
   ]
  },
  {
   "cell_type": "code",
   "execution_count": null,
   "id": "bd793342-c3d8-436d-a98a-6a3a2ab3b4bb",
   "metadata": {},
   "outputs": [],
   "source": [
    "LAGS"
   ]
  },
  {
   "cell_type": "code",
   "execution_count": null,
   "id": "55cb7351-f7b1-4845-aa3c-f3162248fec6",
   "metadata": {},
   "outputs": [],
   "source": [
    "%%time\n",
    "for lag in tqdm(LAGS):\n",
    "    tr = train_lag(tr, lag=lag)\n",
    "    gc.collect()\n",
    "#===========\n",
    "tr = tr.sort_values(by=[\"playerId\", \"EvalDate\"])\n",
    "print(tr.shape)\n",
    "tr = tr.dropna()\n",
    "print(tr.shape)\n",
    "tr = tr.merge(MED_DF, on=[\"playerId\",\"EvalYear\"])\n",
    "gc.collect()"
   ]
  },
  {
   "cell_type": "code",
   "execution_count": null,
   "id": "1bf96fee-a75f-4940-a593-9857bf24580d",
   "metadata": {},
   "outputs": [],
   "source": [
    "tr.head(1)"
   ]
  },
  {
   "cell_type": "code",
   "execution_count": null,
   "id": "28546261-d82d-4bb2-9cf8-defb5b2f46fd",
   "metadata": {},
   "outputs": [],
   "source": [
    "NFOLDS = 5\n",
    "skf = StratifiedKFold(n_splits=NFOLDS)\n",
    "folds = skf.split(X, cl)\n",
    "folds = list(folds)"
   ]
  },
  {
   "cell_type": "code",
   "execution_count": null,
   "id": "47fed9c6-f11d-4a1c-b8c5-4b58ff62cced",
   "metadata": {},
   "outputs": [],
   "source": [
    "import tensorflow as tf\n",
    "import tensorflow.keras.layers as L\n",
    "import tensorflow.keras.models as M\n",
    "from sklearn.metrics import mean_absolute_error, mean_squared_error\n",
    "from tensorflow.keras.callbacks import ModelCheckpoint, ReduceLROnPlateau, EarlyStopping"
   ]
  },
  {
   "cell_type": "code",
   "execution_count": null,
   "id": "e59195ac-4bc4-431e-bd73-acf5be380b4d",
   "metadata": {},
   "outputs": [],
   "source": [
    "def make_model(n_in):\n",
    "    inp = L.Input(name=\"inputs\", shape=(n_in,))\n",
    "    x = L.Dense(50, activation=\"relu\", name=\"d1\")(inp)\n",
    "    x = L.Dense(50, activation=\"relu\", name=\"d2\")(x)\n",
    "    preds = L.Dense(4, activation=\"linear\", name=\"preds\")(x)\n",
    "    \n",
    "    model = M.Model(inp, preds, name=\"ANN\")\n",
    "    model.compile(loss=\"mean_absolute_error\", optimizer=\"adam\")\n",
    "    return model"
   ]
  },
  {
   "cell_type": "code",
   "execution_count": null,
   "id": "f5b3eb27-8bfe-4326-92f1-d1c3a5d9a54b",
   "metadata": {},
   "outputs": [],
   "source": [
    "net = make_model(X.shape[1])\n",
    "print(net.summary())"
   ]
  },
  {
   "cell_type": "code",
   "execution_count": null,
   "id": "88819c41-59ad-4a17-8755-a78a5d6fa28c",
   "metadata": {},
   "outputs": [],
   "source": [
    "oof = np.zeros(y.shape)\n",
    "nets = []\n",
    "EPOCHS  = 10\n",
    "for idx in range(NFOLDS):\n",
    "    print(\"FOLD:\", idx)\n",
    "    tr_idx, val_idx = folds[idx]\n",
    "    ckpt = ModelCheckpoint(f\"w{idx}.h5\", monitor='val_loss', verbose=1, save_best_only=True,mode='min')\n",
    "    reduce_lr = ReduceLROnPlateau(monitor='val_loss', factor=0.2,patience=3, min_lr=0.0005)\n",
    "    es = EarlyStopping(monitor='val_loss', patience=6)\n",
    "    reg = make_model(X.shape[1])\n",
    "    reg.fit(X[tr_idx], y[tr_idx], epochs=EPOCHS, batch_size=30_000, \n",
    "            validation_data=(X[val_idx], y[val_idx]),\n",
    "            verbose=1, callbacks=[ckpt, reduce_lr, es])\n",
    "    reg.load_weights(f\"w{idx}.h5\")\n",
    "    oof[val_idx] = reg.predict(X[val_idx], batch_size=50_000, verbose=1)\n",
    "    nets.append(reg)\n",
    "    gc.collect()\n",
    "    #\n",
    "#"
   ]
  },
  {
   "cell_type": "code",
   "execution_count": null,
   "id": "36c944cc-4cf4-4855-b782-f2d9a7d382cd",
   "metadata": {},
   "outputs": [],
   "source": []
  },
  {
   "cell_type": "code",
   "execution_count": null,
   "id": "a7c49321-de44-48ad-8089-d13eaea10f28",
   "metadata": {},
   "outputs": [],
   "source": [
    "#reg.fit(X, y, epochs=10, batch_size=30_000, validation_split=0.3)"
   ]
  },
  {
   "cell_type": "code",
   "execution_count": null,
   "id": "daad5933-3a33-4159-bf55-7b4e8e0bb5a0",
   "metadata": {},
   "outputs": [],
   "source": [
    "mae = mean_absolute_error(y, oof)\n",
    "mse = mean_squared_error(y, oof, squared=False)\n",
    "print(\"mae:\", mae)\n",
    "print(\"mse:\", mse)"
   ]
  },
  {
   "cell_type": "code",
   "execution_count": null,
   "id": "5af63f6b-cae5-4d90-b01b-c9a97d8a3304",
   "metadata": {},
   "outputs": [],
   "source": [
    "# Historical information to use in prediction time\n",
    "bound_dt = pd.to_datetime(\"2021-01-01\")\n",
    "LAST = tr.loc[tr.EvalDate>bound_dt].copy()"
   ]
  },
  {
   "cell_type": "code",
   "execution_count": null,
   "id": "5cfbc106-930c-4ed8-8e38-c37bda3d2e1c",
   "metadata": {},
   "outputs": [],
   "source": [
    "LAST_MED_DF = MED_DF.loc[MED_DF.EvalYear==2021].copy()\n",
    "LAST_MED_DF.drop(\"EvalYear\", axis=1, inplace=True)\n",
    "del tr"
   ]
  },
  {
   "cell_type": "code",
   "execution_count": null,
   "id": "b4222843-f55b-4032-8e6b-ddb2411d6205",
   "metadata": {},
   "outputs": [],
   "source": [
    "LAST.shape, LAST_MED_DF.shape, MED_DF.shape"
   ]
  },
  {
   "cell_type": "code",
   "execution_count": null,
   "id": "c0e8fa3c-710a-44b5-b4b2-9fc0f36060fe",
   "metadata": {},
   "outputs": [],
   "source": [
    "#nets[0].summary()"
   ]
  },
  {
   "cell_type": "code",
   "execution_count": null,
   "id": "a361a9bb-e638-4ba1-9234-0aa457e907f9",
   "metadata": {},
   "outputs": [],
   "source": [
    "#\"\"\"\n",
    "import mlb\n",
    "FE = []; SUB = [];\n",
    "env = mlb.make_env() # initialize the environment\n",
    "iter_test = env.iter_test() # iterator which loops over each date in test set\n",
    "\n",
    "for (test_df, sub) in iter_test:\n",
    "    # Features computation at Evaluation Date\n",
    "    sub = sub.reset_index()\n",
    "    sub_fe, eval_dt = test_lag(sub)\n",
    "    sub_fe = sub_fe.merge(LAST_MED_DF, on=\"playerId\", how=\"left\")\n",
    "    sub_fe = sub_fe.fillna(0.)\n",
    "    \n",
    "    _preds = 0.\n",
    "    for reg in nets:\n",
    "        _preds += reg.predict(sub_fe[FECOLS + MEDCOLS]) / NFOLDS\n",
    "    sub_fe[TGTCOLS] = np.clip(_preds, 0, 100)\n",
    "    sub.drop([\"date\"]+TGTCOLS, axis=1, inplace=True)\n",
    "    sub = sub.merge(sub_fe[[\"playerId\"]+TGTCOLS], on=\"playerId\", how=\"left\")\n",
    "    sub.drop(\"playerId\", axis=1, inplace=True)\n",
    "    sub = sub.fillna(0.)\n",
    "    # Submit\n",
    "    env.predict(sub)\n",
    "    # Update Available information\n",
    "    sub_fe[\"EvalDate\"] = eval_dt\n",
    "    #sub_fe.drop(MEDCOLS, axis=1, inplace=True)\n",
    "    LAST = LAST.append(sub_fe)\n",
    "    LAST = LAST.drop_duplicates(subset=[\"EvalDate\",\"playerId\"], keep=\"last\")\n",
    "#\"\"\""
   ]
  },
  {
   "cell_type": "code",
   "execution_count": null,
   "id": "887df80a-03dd-4cb5-b9a3-6f5e2c6caf81",
   "metadata": {},
   "outputs": [],
   "source": [
    "sub.head()"
   ]
  },
  {
   "cell_type": "code",
   "execution_count": null,
   "id": "55c229cb-14e1-4f9c-9e05-c6f2fd800410",
   "metadata": {},
   "outputs": [],
   "source": [
    "LAST.shape, sub_fe.shape"
   ]
  },
  {
   "cell_type": "code",
   "execution_count": null,
   "id": "9ab805d2-1353-4245-bf2d-6254db7ee8db",
   "metadata": {},
   "outputs": [],
   "source": [
    "#df_tr[\"dte\"] = pd.to_datetime(df_tr[\"date\"], format='%Y%m%d')"
   ]
  },
  {
   "cell_type": "code",
   "execution_count": null,
   "id": "4b0c04be-a2d1-4ef4-a6fe-a144f07105d0",
   "metadata": {},
   "outputs": [],
   "source": []
  }
 ],
 "metadata": {
  "kernelspec": {
   "display_name": "Python 3",
   "language": "python",
   "name": "python3"
  },
  "language_info": {
   "codemirror_mode": {
    "name": "ipython",
    "version": 3
   },
   "file_extension": ".py",
   "mimetype": "text/x-python",
   "name": "python",
   "nbconvert_exporter": "python",
   "pygments_lexer": "ipython3",
   "version": "3.8.8"
  }
 },
 "nbformat": 4,
 "nbformat_minor": 5
}
